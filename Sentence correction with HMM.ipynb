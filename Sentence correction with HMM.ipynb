{
 "cells": [
  {
   "cell_type": "markdown",
   "metadata": {},
   "source": [
    "### Import dependencies"
   ]
  },
  {
   "cell_type": "code",
   "execution_count": 1,
   "metadata": {
    "collapsed": true
   },
   "outputs": [],
   "source": [
    "import pandas as pd\n",
    "import numpy as np"
   ]
  },
  {
   "cell_type": "markdown",
   "metadata": {},
   "source": [
    "### Prepare the data"
   ]
  },
  {
   "cell_type": "code",
   "execution_count": 2,
   "metadata": {
    "collapsed": true
   },
   "outputs": [],
   "source": [
    "def get_vocab():\n",
    "\tfname = 'data/vocab.txt'\n",
    "\twith open(fname) as f:\n",
    "\t\tlines = f.readlines()\n",
    "\n",
    "\t\twords = []\n",
    "\n",
    "\t\tfor l in lines:\n",
    "\t\t\twords.append(l.split(' ')[1].strip())\n",
    "\n",
    "\treturn words\n",
    "\n",
    "def get_transition_probs():\n",
    "\tdf = pd.read_csv('data/bigram_counts.txt', delimiter=' ', header=None, names=['i', 'j', 'prob'])\n",
    "\n",
    "\tnum_words = df.shape[0]\n",
    "\n",
    "\ttransition_probs = np.zeros((num_words, num_words))\n",
    "\n",
    "\tfor idx, row in df.iterrows():\n",
    "\t\ttransition_probs[int(row['i']), int(row['j'])] = row['prob']\n",
    "\n",
    "\treturn transition_probs\n",
    "\n",
    "states = get_vocab()[:1000]\n",
    "transition_probs = get_transition_probs()\n",
    "start_state_idx = states.index('<s>')\n",
    "end_state_idx = states.index('</s>')"
   ]
  },
  {
   "cell_type": "markdown",
   "metadata": {},
   "source": [
    "### Test the model"
   ]
  },
  {
   "cell_type": "code",
   "execution_count": 3,
   "metadata": {
    "collapsed": false
   },
   "outputs": [
    {
     "name": "stdout",
     "output_type": "stream",
     "text": [
      "observation 2\n",
      "observation 3\n",
      "observation 4\n",
      "ffuuuuu\n",
      "0\n"
     ]
    }
   ],
   "source": [
    "import HiddenMarkovModel as HMM\n",
    "def correct_sentence(HMM, sentence):\n",
    "\treturn HMM.viterbi(sentence.split(' '))\n",
    "\n",
    "HMM = HMM.HiddenMarkovModel( states, transition_probs, start_state_idx, end_state_idx )\n",
    "sentence = 'the fox are big'\n",
    "result = correct_sentence(HMM, sentence)\n",
    "print(result)"
   ]
  },
  {
   "cell_type": "code",
   "execution_count": null,
   "metadata": {
    "collapsed": true
   },
   "outputs": [],
   "source": []
  }
 ],
 "metadata": {
  "anaconda-cloud": {},
  "kernelspec": {
   "display_name": "Python [default]",
   "language": "python",
   "name": "python3"
  },
  "language_info": {
   "codemirror_mode": {
    "name": "ipython",
    "version": 3
   },
   "file_extension": ".py",
   "mimetype": "text/x-python",
   "name": "python",
   "nbconvert_exporter": "python",
   "pygments_lexer": "ipython3",
   "version": "3.5.2"
  }
 },
 "nbformat": 4,
 "nbformat_minor": 1
}
